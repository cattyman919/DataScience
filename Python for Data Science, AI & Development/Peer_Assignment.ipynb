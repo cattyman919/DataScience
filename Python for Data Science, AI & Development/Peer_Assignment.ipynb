{
  "metadata": {
    "language_info": {
      "codemirror_mode": {
        "name": "python",
        "version": 3
      },
      "file_extension": ".py",
      "mimetype": "text/x-python",
      "name": "python",
      "nbconvert_exporter": "python",
      "pygments_lexer": "ipython3",
      "version": "3.8"
    },
    "kernelspec": {
      "name": "python",
      "display_name": "Python (Pyodide)",
      "language": "python"
    }
  },
  "nbformat_minor": 4,
  "nbformat": 4,
  "cells": [
    {
      "cell_type": "markdown",
      "source": "# Peer Assignment",
      "metadata": {}
    },
    {
      "cell_type": "markdown",
      "source": "This part is the introduction statement for the peer assignment",
      "metadata": {}
    },
    {
      "cell_type": "markdown",
      "source": "List of Objectives\n- To practice using jupyter notebook for data science\n- Enhance learning experience\n- Getting used to using ipynb",
      "metadata": {}
    },
    {
      "cell_type": "markdown",
      "source": "Author : Seno Pamungkas",
      "metadata": {}
    },
    {
      "cell_type": "markdown",
      "source": "List of data science languages\n- Python\n- R\n- Julia\n- Scala\n- Ruby",
      "metadata": {}
    },
    {
      "cell_type": "markdown",
      "source": "List of data science libraries\n- Pandas\n- NumPy\n- SciPy\n- Seaborn\n- TensorFlow\n- Keras\n- PyTorch\n- Matplotlib",
      "metadata": {}
    },
    {
      "cell_type": "markdown",
      "source": "## Table of Data Science Tools\n\n| Tool             | Features                                                                                                                                                                                                                                                                                                      |\n|------------------|---------------------------------------------------------------------------------------------------------------------------------------------------------------------------------------------------------------------------------------------------------------------------------------------------------------|\n| SAS              | A statistical software for data analysis, modeling, and reporting. It supports various data formats, graphical interfaces, and programming languages.                                                                                                                                                         |\n| Apache Spark     | A distributed computing framework for large-scale data processing. It supports batch and stream processing, SQL queries, machine learning, graph analytics, and more.                                                                                                                                         |\n| TensorFlow       | An open-source framework for developing and deploying machine learning models. It supports deep learning, neural networks, computer vision, natural language processing, and more. It offers a Python API, a C++ API, and a JavaScript library                                                                |\n| Jupyter Notebook | A web-based application that allows users to create and share documents that contain live code, equations, visualizations, and text. It supports multiple programming languages such as Python, R, Julia, and more. It can also connect to various data sources and frameworks such as Spark, TensorFlow, etc |\n| R                | A programming language and environment for statistical computing and graphics. It supports data manipulation, visualization, modeling, testing, and reporting. It also offers various packages for machine learning, NLP, web scraping, and more.                                                             |",
      "metadata": {}
    },
    {
      "cell_type": "markdown",
      "source": "## Arithmetic Examples",
      "metadata": {}
    },
    {
      "cell_type": "code",
      "source": "x = 25*2+19\nprint(x)",
      "metadata": {
        "trusted": true
      },
      "execution_count": 5,
      "outputs": [
        {
          "name": "stdout",
          "text": "69\n",
          "output_type": "stream"
        }
      ]
    },
    {
      "cell_type": "code",
      "source": "def minutes_to_hours(minutes):\n    return (minutes/60)\n\nprint(minutes_to_hours(120))",
      "metadata": {
        "trusted": true
      },
      "execution_count": 10,
      "outputs": [
        {
          "name": "stdout",
          "text": "2.0\n",
          "output_type": "stream"
        }
      ]
    }
  ]
}